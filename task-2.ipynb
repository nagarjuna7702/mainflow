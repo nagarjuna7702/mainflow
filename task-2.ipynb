{
 "cells": [
  {
   "cell_type": "code",
   "execution_count": 8,
   "metadata": {},
   "outputs": [
    {
     "name": "stdout",
     "output_type": "stream",
     "text": [
      "5 is a prime number.\n"
     ]
    }
   ],
   "source": [
    "import math\n",
    "\n",
    "def is_prime(n):\n",
    "    # Handle edge cases\n",
    "    if n <= 1:\n",
    "        return False\n",
    "    if n == 2:\n",
    "        return True  # 2 is a prime number\n",
    "    if n % 2 == 0:\n",
    "        return False  # exclude all even numbers greater than 2\n",
    "\n",
    "    # Check for divisibility up to sqrt(n)\n",
    "    limit = int(math.sqrt(n)) + 1\n",
    "    for i in range(3, limit, 2):  # Only check odd numbers\n",
    "        if n % i == 0:\n",
    "            return False\n",
    "        \n",
    "    return True\n",
    "n = int(input(\"Enter a number: \"))\n",
    "if is_prime(n):\n",
    "    print(f\"{n} is a prime number.\")\n",
    "else:\n",
    "    print(f\"{n} is not a prime number.\")"
   ]
  },
  {
   "cell_type": "code",
   "execution_count": 12,
   "metadata": {},
   "outputs": [
    {
     "name": "stdout",
     "output_type": "stream",
     "text": [
      "The sum of digits 123 is: 6\n"
     ]
    }
   ],
   "source": [
    "def sum_of_digits(n):\n",
    "    # Convert the number to a string and iterate through each character\n",
    "    return sum(int(digit) for digit in str(abs(n)))  # Handle negative numbers as well\n",
    "\n",
    "# Get user input\n",
    "n = int(input(\"Enter a number: \"))\n",
    "\n",
    "# Output the sum of digits\n",
    "print(f\"The sum of digits {n} is: {sum_of_digits(n)}\")"
   ]
  },
  {
   "cell_type": "code",
   "execution_count": 9,
   "metadata": {},
   "outputs": [
    {
     "name": "stdout",
     "output_type": "stream",
     "text": [
      "LCM of 12 and 18 is: 36\n",
      "GCD of 12 and 18 is: 6\n"
     ]
    }
   ],
   "source": [
    "import math\n",
    "\n",
    "def lcm_and_gcd(a, b):\n",
    "    # Calculate GCD using math.gcd() function\n",
    "    gcd_value = math.gcd(a, b)\n",
    "    \n",
    "    # Calculate LCM using the formula: LCM(a, b) = |a * b| / GCD(a, b)\n",
    "    lcm_value = abs(a * b) // gcd_value\n",
    "    \n",
    "    return lcm_value, gcd_value\n",
    "\n",
    "# Get user input for two integers\n",
    "a = int(input(\"Enter the first integer: \"))\n",
    "b = int(input(\"Enter the second integer: \"))\n",
    "\n",
    "# Calculate LCM and GCD\n",
    "lcm_value, gcd_value = lcm_and_gcd(a, b)\n",
    "\n",
    "# Output the results\n",
    "print(f\"LCM of {a} and {b} is: {lcm_value}\")\n",
    "print(f\"GCD of {a} and {b} is: {gcd_value}\")"
   ]
  },
  {
   "cell_type": "code",
   "execution_count": 19,
   "metadata": {},
   "outputs": [
    {
     "name": "stdout",
     "output_type": "stream",
     "text": [
      "Reversed list: [5, 4, 3, 2, 1]\n"
     ]
    }
   ],
   "source": [
    "def reverse_list(lst):\n",
    "    # Initialize two pointers: one at the start and one at the end\n",
    "    start = 0\n",
    "    end = len(lst) - 1\n",
    "    # Loop until the two pointers meet in the middle\n",
    "    while start < end:\n",
    "        # Swap elements at the start and end pointers\n",
    "        lst[start], lst[end] = lst[end], lst[start]\n",
    "        \n",
    "        # Move the pointers towards each other\n",
    "        start += 1\n",
    "        end -= 1\n",
    "    \n",
    "    return lst\n",
    "# Get user input for the list of integers\n",
    "lst = list(map(int, input(\"Enter a list of integers (space-separated): \").split()))\n",
    "# Reverse the list\n",
    "reversed_lst = reverse_list(lst)\n",
    "# Output the reversed list\n",
    "print(f\"Reversed list: {reversed_lst}\")"
   ]
  },
  {
   "cell_type": "code",
   "execution_count": 20,
   "metadata": {},
   "outputs": [
    {
     "name": "stdout",
     "output_type": "stream",
     "text": [
      "Sorted list: [3, 4, 5, 6, 8]\n"
     ]
    }
   ],
   "source": [
    "def bubble_sort(lst):\n",
    "    n = len(lst)\n",
    "    # Traverse through all list elements\n",
    "    for i in range(n):\n",
    "        # Last i elements are already in place\n",
    "        for j in range(0, n-i-1):\n",
    "            # Swap if the element found is greater than the next element\n",
    "            if lst[j] > lst[j+1]:\n",
    "                lst[j], lst[j+1] = lst[j+1], lst[j]\n",
    "    return lst\n",
    "\n",
    "# Get user input for the list of integers\n",
    "lst = list(map(int, input(\"Enter a list of integers (space-separated): \").split()))\n",
    "\n",
    "# Sort the list using bubble sort\n",
    "sorted_lst = bubble_sort(lst)\n",
    "\n",
    "# Output the sorted list\n",
    "print(f\"Sorted list: {sorted_lst}\")"
   ]
  },
  {
   "cell_type": "code",
   "execution_count": 21,
   "metadata": {},
   "outputs": [
    {
     "name": "stdout",
     "output_type": "stream",
     "text": [
      "List with unique elements: [1, 2, 3, 4, 5]\n"
     ]
    }
   ],
   "source": [
    "def remove_duplicates(lst):\n",
    "    # Convert list to set to remove duplicates, then back to list\n",
    "    return list(set(lst))\n",
    "\n",
    "# Get user input for the list of integers\n",
    "lst = list(map(int, input(\"Enter a list of integers (space-separated): \").split()))\n",
    "\n",
    "# Remove duplicates\n",
    "unique_lst = remove_duplicates(lst)\n",
    "\n",
    "# Output the list with unique elements\n",
    "print(f\"List with unique elements: {unique_lst}\")"
   ]
  },
  {
   "cell_type": "code",
   "execution_count": 22,
   "metadata": {},
   "outputs": [
    {
     "name": "stdout",
     "output_type": "stream",
     "text": [
      "The length of the string is: 5\n"
     ]
    }
   ],
   "source": [
    "def string_length(s):\n",
    "    count = 0\n",
    "    # Iterate through each character in the string\n",
    "    for char in s:\n",
    "        count += 1  # Increment the counter for each character\n",
    "    return count\n",
    "\n",
    "# Get user input for the string\n",
    "s = input(\"Enter a string: \")\n",
    "\n",
    "# Find the length of the string\n",
    "length = string_length(s)\n",
    "\n",
    "# Output the length\n",
    "print(f\"The length of the string is: {length}\")"
   ]
  },
  {
   "cell_type": "code",
   "execution_count": 23,
   "metadata": {},
   "outputs": [
    {
     "name": "stdout",
     "output_type": "stream",
     "text": [
      "Vowels: 3\n",
      "Consonants: 7\n"
     ]
    }
   ],
   "source": [
    "def count_vowels_and_consonants(s):\n",
    "    vowels = {'a', 'e', 'i', 'o', 'u'}\n",
    "    vowel_count = 0\n",
    "    consonant_count = 0\n",
    "    \n",
    "    # Loop through each character in the string\n",
    "    for char in s.lower():  # Convert to lowercase to handle case insensitivity\n",
    "        if char.isalpha():  # Check if the character is alphabetic\n",
    "            if char in vowels:\n",
    "                vowel_count += 1\n",
    "            else:\n",
    "                consonant_count += 1\n",
    "                \n",
    "    return vowel_count, consonant_count\n",
    "\n",
    "# Get user input for the string\n",
    "s = input(\"Enter a string: \")\n",
    "\n",
    "# Count vowels and consonants\n",
    "vowels, consonants = count_vowels_and_consonants(s)\n",
    "\n",
    "# Output the results\n",
    "print(f\"Vowels: {vowels}\")\n",
    "print(f\"Consonants: {consonants}\")"
   ]
  }
 ],
 "metadata": {
  "kernelspec": {
   "display_name": "base",
   "language": "python",
   "name": "python3"
  },
  "language_info": {
   "codemirror_mode": {
    "name": "ipython",
    "version": 3
   },
   "file_extension": ".py",
   "mimetype": "text/x-python",
   "name": "python",
   "nbconvert_exporter": "python",
   "pygments_lexer": "ipython3",
   "version": "3.12.4"
  }
 },
 "nbformat": 4,
 "nbformat_minor": 2
}
